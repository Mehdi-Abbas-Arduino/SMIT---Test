{
 "cells": [
  {
   "cell_type": "code",
   "execution_count": 1,
   "metadata": {},
   "outputs": [
    {
     "name": "stdout",
     "output_type": "stream",
     "text": [
      "6\n",
      "7\n",
      "40\n"
     ]
    }
   ],
   "source": [
    "def analyze_file(filename): # This function would analyze this whole file \n",
    "    try: #  Try to open the file\n",
    "        with open(filename, 'r') as f:   # Open the file in read mode\n",
    "            content =  f.read()  # Read the content of the file\n",
    "            lines = content.count('\\n') + 1 # count the number of lines \n",
    "            words = len(content.split()) # Would split the words and count them \n",
    "            characters = len(content) # Would  count the number of characters in the file\n",
    "\n",
    "            print(lines)\n",
    "            print(words)\n",
    "            print(characters)\n",
    "    except FileNotFoundError: # detect error\n",
    "        print(f\"Sorry, the file {filename} does not exist.\")\n",
    "analyze_file(\"sample.txt\")"
   ]
  },
  {
   "cell_type": "code",
   "execution_count": 2,
   "metadata": {},
   "outputs": [
    {
     "name": "stdout",
     "output_type": "stream",
     "text": [
      "4\n",
      "3\n",
      "37\n"
     ]
    }
   ],
   "source": [
    "analyze_file('sample2.txt')"
   ]
  },
  {
   "cell_type": "code",
   "execution_count": 22,
   "metadata": {},
   "outputs": [
    {
     "name": "stdout",
     "output_type": "stream",
     "text": [
      "The word 'mehdi' appears 4 times in the file.\n"
     ]
    }
   ],
   "source": [
    "def search_word(filename):\n",
    "    count = 0\n",
    "    try:\n",
    "        with open(filename, 'r') as f:\n",
    "            user = input(\"What do you want to search: \").strip().lower()  # Get user input and standardize it\n",
    "            for line in f:  # Iterate directly over the file object\n",
    "                words = line.strip().split()  # Split line into words\n",
    "                for word in words:\n",
    "                    if word.lower() == user:  # Compare \n",
    "                        count += 1\n",
    "            \n",
    "            print(f\"The word '{user}' appears {count} times in the file.\")\n",
    "    except FileNotFoundError:\n",
    "        print(\"File not found.\")\n",
    "\n",
    "# Example usage\n",
    "search_word('sample3.txt')\n"
   ]
  },
  {
   "cell_type": "code",
   "execution_count": null,
   "metadata": {},
   "outputs": [],
   "source": []
  }
 ],
 "metadata": {
  "kernelspec": {
   "display_name": "base",
   "language": "python",
   "name": "python3"
  },
  "language_info": {
   "codemirror_mode": {
    "name": "ipython",
    "version": 3
   },
   "file_extension": ".py",
   "mimetype": "text/x-python",
   "name": "python",
   "nbconvert_exporter": "python",
   "pygments_lexer": "ipython3",
   "version": "3.11.7"
  }
 },
 "nbformat": 4,
 "nbformat_minor": 2
}
