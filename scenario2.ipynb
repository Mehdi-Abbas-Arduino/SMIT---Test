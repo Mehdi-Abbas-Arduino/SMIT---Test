{
 "cells": [
  {
   "cell_type": "code",
   "execution_count": 35,
   "metadata": {},
   "outputs": [],
   "source": [
    "class Book:\n",
    "    def __init__(self,title,author:str,isbn:int,is_borrowed:bool):\n",
    "        self.books = {}\n",
    "        self.title : str = str(title)\n",
    "        self.author : str = str(author)\n",
    "        self.isbn : int = int(isbn)\n",
    "        self.books[title] = [author,isbn]\n",
    "        self.is_borrowed : bool = bool(is_borrowed)\n",
    "    def borrow(self):\n",
    "        self.is_borrowed = True\n",
    "\n",
    "    def return_books(self):\n",
    "        self.is_borrowed = False"
   ]
  },
  {
   "cell_type": "code",
   "execution_count": 36,
   "metadata": {},
   "outputs": [],
   "source": [
    "class DigitalBook(Book):\n",
    "    def  __init__(self, title, author,isbn,is_borrowed, file_format:str):\n",
    "        super().__init__(title, author,isbn,is_borrowed)\n",
    "        self.file_format = str(file_format)\n",
    "\n",
    "    def borrow(self):\n",
    "        print(\"No need to borrow it book can be accesed online.\")"
   ]
  },
  {
   "cell_type": "code",
   "execution_count": 37,
   "metadata": {},
   "outputs": [],
   "source": [
    "class AudioBook(Book):\n",
    "    def __init__(self, title, author,isbn,is_borrowed,duration:float):\n",
    "        super().__init__(title,author,isbn,is_borrowed)\n",
    "        self.duration = float(duration)\n",
    "    def borrow(self):\n",
    "        print(\"The audiobook is available for streaming\")"
   ]
  },
  {
   "cell_type": "code",
   "execution_count": 57,
   "metadata": {},
   "outputs": [],
   "source": [
    "class User:\n",
    "    returned_book = False\n",
    "    books = [\"Harry Potter,Horrid Henry ,Wind in the willows\"]\n",
    "    def __init__(self,user_id:str,name:str,borrowed_books:list):\n",
    "        self.user_id = str(user_id)\n",
    "        self.name = str(name)\n",
    "        self.__borrowed_books = list(borrowed_books)\n",
    "    def borrow_books(self,book):\n",
    "        # book = input(\"Enter the name of book = \")\n",
    "        for i in User.books :\n",
    "            if i == book:    \n",
    "                for y in  self.__borrowed_books:\n",
    "                    if y == book:\n",
    "                        print(\"It is already in borrowed list\")\n",
    "                    else:\n",
    "                        self.__borrowed_books.append(book)\n",
    "                        User.books.remove(book)\n",
    "    def return_books(self,book):\n",
    "        # book = input(\"Enter the name of book = \")\n",
    "        for i in self.__borrowed_books:\n",
    "            if  i == book:\n",
    "                User.books.append(book)\n",
    "                self.__borrowed_books.remove(book)\n",
    "                User.returned_book = True\n",
    "    \n",
    "    def get_book(self):\n",
    "        return self.__borrowed_books\n"
   ]
  },
  {
   "cell_type": "code",
   "execution_count": 101,
   "metadata": {},
   "outputs": [],
   "source": [
    "class Library:\n",
    "    def __init__(self,name):\n",
    "        self.name = name\n",
    "        self.books = ['Harry Potter','Harry Potter','Harry Potter','Harry Potter','Harry Potter','Horrid Henry']\n",
    "        self.users = ['Mehdi','Danish','Izhan','Qasim']\n",
    "\n",
    "\n",
    "    def add_books(self,book):\n",
    "            if  book in self.books:\n",
    "                print(\"Book already exist\")\n",
    "            else:\n",
    "                self.books.append(book)\n",
    "    \n",
    "    def register_user(self):\n",
    "        name = input(\"What's Your name = \")\n",
    "        while name in self.users:\n",
    "                print(\"Your name already in the list\")\n",
    "                break\n",
    "        else:\n",
    "                self.users.append(name)\n",
    "                print(\"Your name added to the list. \")\n",
    "    \n",
    "    def lend_book(self,user_id,isbn):\n",
    "        global borrowed_book \n",
    "        borrowed_book = []\n",
    "        book = input(\"Enter the book name = \")\n",
    "        for i in self.books:\n",
    "            if book in self.books:\n",
    "                borrowed_book.append(book)\n",
    "                self.books.remove(book)\n",
    "    \n",
    "    def recieve_return (self,user_id,isbn):\n",
    "        book = input(\"Enter the book name = \")\n",
    "        for i in borrowed_book:\n",
    "            if book in borrowed_book:\n",
    "                self.books.append(book)\n",
    "                borrowed_book.remove(book)\n",
    "                print(\"Book returned successfully\")"
   ]
  },
  {
   "cell_type": "code",
   "execution_count": 102,
   "metadata": {},
   "outputs": [],
   "source": [
    "Mehdi = User(\"Mehdi123\",\"Mehdi Abbas\",['Harry Potter , Horrid Henry'])"
   ]
  },
  {
   "cell_type": "code",
   "execution_count": 103,
   "metadata": {},
   "outputs": [],
   "source": [
    "Mehdi.borrow_books(\"Wind in the Willows \")"
   ]
  },
  {
   "cell_type": "code",
   "execution_count": 104,
   "metadata": {},
   "outputs": [
    {
     "data": {
      "text/plain": [
       "['Harry Potter , Horrid Henry']"
      ]
     },
     "execution_count": 104,
     "metadata": {},
     "output_type": "execute_result"
    }
   ],
   "source": [
    "Mehdi.get_book()"
   ]
  },
  {
   "cell_type": "code",
   "execution_count": 105,
   "metadata": {},
   "outputs": [
    {
     "data": {
      "text/plain": [
       "['Harry Potter,Horrid Henry ,Wind in the willows']"
      ]
     },
     "execution_count": 105,
     "metadata": {},
     "output_type": "execute_result"
    }
   ],
   "source": [
    "User.books"
   ]
  },
  {
   "cell_type": "code",
   "execution_count": 106,
   "metadata": {},
   "outputs": [],
   "source": [
    "Mehdi = Library(\"HHS\")"
   ]
  },
  {
   "cell_type": "code",
   "execution_count": 107,
   "metadata": {},
   "outputs": [],
   "source": [
    "Mehdi.add_books('Afsanay')"
   ]
  },
  {
   "cell_type": "code",
   "execution_count": 108,
   "metadata": {},
   "outputs": [
    {
     "name": "stdout",
     "output_type": "stream",
     "text": [
      "Your name added to the list. \n"
     ]
    }
   ],
   "source": [
    "Mehdi.register_user()"
   ]
  },
  {
   "cell_type": "code",
   "execution_count": 109,
   "metadata": {},
   "outputs": [
    {
     "data": {
      "text/plain": [
       "['Mehdi', 'Danish', 'Izhan', 'Qasim', 'Daim']"
      ]
     },
     "execution_count": 109,
     "metadata": {},
     "output_type": "execute_result"
    }
   ],
   "source": [
    "Mehdi.users"
   ]
  },
  {
   "cell_type": "code",
   "execution_count": null,
   "metadata": {},
   "outputs": [],
   "source": []
  }
 ],
 "metadata": {
  "kernelspec": {
   "display_name": "base",
   "language": "python",
   "name": "python3"
  },
  "language_info": {
   "codemirror_mode": {
    "name": "ipython",
    "version": 3
   },
   "file_extension": ".py",
   "mimetype": "text/x-python",
   "name": "python",
   "nbconvert_exporter": "python",
   "pygments_lexer": "ipython3",
   "version": "3.11.7"
  }
 },
 "nbformat": 4,
 "nbformat_minor": 2
}
